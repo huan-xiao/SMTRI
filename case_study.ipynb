{
 "cells": [
  {
   "cell_type": "code",
   "execution_count": 1,
   "id": "9b61a253",
   "metadata": {},
   "outputs": [],
   "source": [
    "# Case Studies"
   ]
  },
  {
   "cell_type": "code",
   "execution_count": 2,
   "id": "af0d017f",
   "metadata": {},
   "outputs": [],
   "source": [
    "import os\n",
    "os.environ['TF_CPP_MIN_LOG_LEVEL'] = '1'\n",
    "\n",
    "import numpy as np\n",
    "from numpy import genfromtxt\n",
    "import tensorflow as tf\n",
    "from tensorflow import keras\n",
    "import pandas as pd\n",
    "from feature import get_motif_feature"
   ]
  },
  {
   "cell_type": "code",
   "execution_count": 3,
   "id": "5354b339",
   "metadata": {},
   "outputs": [],
   "source": [
    "# Prepared RNA motifs\n",
    "case1 = ['(C,G) AGACA (G,C) CCA'] # OC-3, TRAF3\n",
    "case2 = ['(G,C) UCG (C,G) AAGU'] # 6’-fluorosisomicin, rRNA A-site\n",
    "case3 = ['(A,U) C (U,A) C', '(G,C) C (G,C) C', '(G,C) A (C,G)'] # Targrpremir-210, miR-210 precursor\n",
    "case4 = ['(G,C) AACUA (C,G)'] # Isis-11, HCV RNA"
   ]
  },
  {
   "cell_type": "code",
   "execution_count": 4,
   "id": "02b5601a",
   "metadata": {},
   "outputs": [],
   "source": [
    "# print result scores\n",
    "def print_results(results, num_motif, num_sm):\n",
    "    # print results\n",
    "    for i in range(num_motif):\n",
    "        for j in range(num_sm):\n",
    "            index = i*num_sm+j\n",
    "            if results[index][0]>0.85: #threshold\n",
    "                print('motif '+str(i)+', SM '+str(j)+': ', end='')\n",
    "                print(results[index][0])"
   ]
  },
  {
   "cell_type": "code",
   "execution_count": 5,
   "id": "bbbe7864",
   "metadata": {},
   "outputs": [],
   "source": [
    "# making prediction\n",
    "def predict(DNN_model, motif_feature, SM_feature):\n",
    "    \n",
    "    # concatenate motif and molecule features\n",
    "    motif_SM = []\n",
    "    for motif in motif_feature: # might have multiple motifs\n",
    "        for sm in SM_feature:\n",
    "            motif_SM.append(np.concatenate((motif, sm)))\n",
    "\n",
    "    # convert to numpy array, and reshape\n",
    "    motif_SM = np.array(motif_SM)\n",
    "    motif_SM = motif_SM.reshape(-1, 1620, 1) # CNN\n",
    "\n",
    "    # predict motif-SM associations\n",
    "    results = DNN_model.predict(motif_SM, verbose=0)\n",
    "    print_results(results, len(motif_feature), len(SM_feature))"
   ]
  },
  {
   "cell_type": "code",
   "execution_count": 6,
   "id": "3d2ee6fd",
   "metadata": {},
   "outputs": [],
   "source": [
    "# load model\n",
    "DNN_model  = tf.keras.models.load_model('./model/best_DNN_model.h5')\n",
    "\n",
    "# load 50 testing molecular features\n",
    "# case 1: SM11; case 2: SM5; case 3: SM8; case 4: SM10\n",
    "SM_feature = genfromtxt('./data/SM_feature.csv', delimiter=',', skip_header = 1)"
   ]
  },
  {
   "cell_type": "code",
   "execution_count": 7,
   "id": "b7bbd148",
   "metadata": {},
   "outputs": [
    {
     "name": "stdout",
     "output_type": "stream",
     "text": [
      "motif 0, SM 10: 0.99227387\n",
      "motif 0, SM 11: 0.9964098\n",
      "motif 0, SM 46: 0.93303007\n"
     ]
    }
   ],
   "source": [
    "# load motif features for case1\n",
    "motif_feature = get_motif_feature(case1) # case 1-4\n",
    "\n",
    "# predict SM for the case\n",
    "predict(DNN_model, motif_feature, SM_feature)"
   ]
  },
  {
   "cell_type": "code",
   "execution_count": 8,
   "id": "f4d7a4d2",
   "metadata": {},
   "outputs": [
    {
     "name": "stdout",
     "output_type": "stream",
     "text": [
      "motif 0, SM 5: 0.85699654\n",
      "motif 0, SM 9: 0.9648426\n",
      "motif 0, SM 10: 0.9968967\n",
      "motif 0, SM 11: 0.9997902\n",
      "motif 0, SM 40: 0.8636249\n",
      "motif 0, SM 41: 0.96957284\n",
      "motif 0, SM 46: 0.99774563\n"
     ]
    }
   ],
   "source": [
    "# load motif features for case2\n",
    "motif_feature = get_motif_feature(case2) # case 1-4\n",
    "\n",
    "# predict SM for the case\n",
    "predict(DNN_model, motif_feature, SM_feature)"
   ]
  },
  {
   "cell_type": "code",
   "execution_count": 9,
   "id": "c57af620",
   "metadata": {},
   "outputs": [
    {
     "name": "stdout",
     "output_type": "stream",
     "text": [
      "motif 0, SM 7: 0.9877862\n",
      "motif 0, SM 8: 0.9704423\n",
      "motif 2, SM 6: 0.87052536\n",
      "motif 2, SM 8: 0.9973473\n"
     ]
    }
   ],
   "source": [
    "# load motif features for case3\n",
    "motif_feature = get_motif_feature(case3) # case 1-4\n",
    "\n",
    "# predict SM for the case\n",
    "predict(DNN_model, motif_feature, SM_feature)"
   ]
  },
  {
   "cell_type": "code",
   "execution_count": 10,
   "id": "81c53fff",
   "metadata": {},
   "outputs": [
    {
     "name": "stdout",
     "output_type": "stream",
     "text": [
      "motif 0, SM 9: 0.9781861\n",
      "motif 0, SM 10: 0.9994508\n",
      "motif 0, SM 11: 0.9978571\n",
      "motif 0, SM 12: 0.9693369\n",
      "motif 0, SM 37: 0.93156445\n",
      "motif 0, SM 38: 0.9450922\n",
      "motif 0, SM 39: 0.98003674\n",
      "motif 0, SM 40: 0.9871629\n",
      "motif 0, SM 41: 0.9873412\n",
      "motif 0, SM 46: 0.99314255\n"
     ]
    }
   ],
   "source": [
    "# load motif features for case4\n",
    "motif_feature = get_motif_feature(case4) # case 1-4\n",
    "\n",
    "# predict SM for the case\n",
    "predict(DNN_model, motif_feature, SM_feature)"
   ]
  },
  {
   "cell_type": "code",
   "execution_count": null,
   "id": "a32a4169",
   "metadata": {},
   "outputs": [],
   "source": []
  }
 ],
 "metadata": {
  "kernelspec": {
   "display_name": "Python 3 (ipykernel)",
   "language": "python",
   "name": "python3"
  },
  "language_info": {
   "codemirror_mode": {
    "name": "ipython",
    "version": 3
   },
   "file_extension": ".py",
   "mimetype": "text/x-python",
   "name": "python",
   "nbconvert_exporter": "python",
   "pygments_lexer": "ipython3",
   "version": "3.8.16"
  }
 },
 "nbformat": 4,
 "nbformat_minor": 5
}

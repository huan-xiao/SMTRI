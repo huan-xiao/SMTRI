{
 "cells": [
  {
   "cell_type": "code",
   "execution_count": null,
   "id": "9b61a253",
   "metadata": {},
   "outputs": [],
   "source": [
    "# Case Studies"
   ]
  },
  {
   "cell_type": "code",
   "execution_count": 1,
   "id": "af0d017f",
   "metadata": {},
   "outputs": [],
   "source": [
    "import os\n",
    "os.environ['TF_CPP_MIN_LOG_LEVEL'] = '1'\n",
    "\n",
    "import numpy as np\n",
    "from numpy import genfromtxt\n",
    "import tensorflow as tf\n",
    "from tensorflow import keras\n",
    "import pandas as pd\n",
    "from feature import get_motif_feature"
   ]
  },
  {
   "cell_type": "code",
   "execution_count": 2,
   "id": "5354b339",
   "metadata": {},
   "outputs": [],
   "source": [
    "# Prepared RNA motifs\n",
    "case1 = ['(C,G) AGACA (G,C) CCA'] # OC-3, TRAF3\n",
    "case2 = ['(G,C) UCG (C,G) AAGU'] # 6’-fluorosisomicin, rRNA A-site\n",
    "case3 = ['(G,C) AACUA (C,G)'] # Isis-11, HCV RNA"
   ]
  },
  {
   "cell_type": "code",
   "execution_count": 3,
   "id": "02b5601a",
   "metadata": {},
   "outputs": [],
   "source": [
    "# print result scores\n",
    "def print_results(results, num_motif, num_sm):\n",
    "    # print results\n",
    "    i=0\n",
    "    for j in range(num_sm):\n",
    "        index = i*num_sm+j\n",
    "        if results[index][0]>0.85: #threshold\n",
    "            print('SM '+str(j)+': ', end='')\n",
    "            print(results[index][0])"
   ]
  },
  {
   "cell_type": "code",
   "execution_count": 4,
   "id": "bbbe7864",
   "metadata": {},
   "outputs": [],
   "source": [
    "# making prediction\n",
    "def predict(DNN_model, motif_feature, SM_feature):\n",
    "    \n",
    "    # concatenate motif and molecule features\n",
    "    motif_SM = []\n",
    "    for motif in motif_feature: # might have multiple motifs\n",
    "        for sm in SM_feature:\n",
    "            motif_SM.append(np.concatenate((motif, sm)))\n",
    "\n",
    "    # convert to numpy array, and reshape\n",
    "    motif_SM = np.array(motif_SM)\n",
    "    motif_SM = motif_SM.reshape(-1, 1620, 1) # CNN\n",
    "\n",
    "    # predict motif-SM associations\n",
    "    results = DNN_model.predict(motif_SM, verbose=0)\n",
    "    print_results(results, len(motif_feature), len(SM_feature))"
   ]
  },
  {
   "cell_type": "code",
   "execution_count": 5,
   "id": "3d2ee6fd",
   "metadata": {},
   "outputs": [],
   "source": [
    "# load model\n",
    "DNN_model  = tf.keras.models.load_model('./model/best_DNN_model.h5')\n",
    "\n",
    "# load 50 testing molecular features\n",
    "# case 1: SM11; case 2: SM5; case 3: SM10\n",
    "SM_feature = genfromtxt('./data/SM_feature.csv', delimiter=',', skip_header = 1)"
   ]
  },
  {
   "cell_type": "code",
   "execution_count": 6,
   "id": "b7bbd148",
   "metadata": {},
   "outputs": [
    {
     "name": "stdout",
     "output_type": "stream",
     "text": [
      "SM 10: 0.9994011\n",
      "SM 11: 0.9988218\n",
      "SM 41: 0.96830547\n",
      "SM 46: 0.90942705\n"
     ]
    }
   ],
   "source": [
    "# load motif features for case1\n",
    "motif_feature = get_motif_feature(case1)\n",
    "\n",
    "# predict SM for the case\n",
    "predict(DNN_model, motif_feature, SM_feature)"
   ]
  },
  {
   "cell_type": "code",
   "execution_count": 7,
   "id": "f4d7a4d2",
   "metadata": {},
   "outputs": [
    {
     "name": "stdout",
     "output_type": "stream",
     "text": [
      "SM 5: 0.9627523\n",
      "SM 9: 0.9817957\n",
      "SM 10: 0.9999782\n",
      "SM 11: 0.999993\n",
      "SM 12: 0.98230386\n",
      "SM 38: 0.9601063\n",
      "SM 39: 0.9846613\n",
      "SM 40: 0.98658484\n",
      "SM 41: 0.99961275\n",
      "SM 46: 0.9993864\n"
     ]
    }
   ],
   "source": [
    "# load motif features for case2\n",
    "motif_feature = get_motif_feature(case2)\n",
    "\n",
    "# predict SM for the case\n",
    "predict(DNN_model, motif_feature, SM_feature)"
   ]
  },
  {
   "cell_type": "code",
   "execution_count": 8,
   "id": "81c53fff",
   "metadata": {},
   "outputs": [
    {
     "name": "stdout",
     "output_type": "stream",
     "text": [
      "SM 9: 0.9997833\n",
      "SM 10: 0.9999983\n",
      "SM 11: 0.99998987\n",
      "SM 12: 0.9993968\n",
      "SM 37: 0.98338634\n",
      "SM 38: 0.98680776\n",
      "SM 39: 0.99922276\n",
      "SM 40: 0.99978524\n",
      "SM 41: 0.9999757\n",
      "SM 46: 0.9996926\n",
      "SM 47: 0.8827389\n"
     ]
    }
   ],
   "source": [
    "# load motif features for case3\n",
    "motif_feature = get_motif_feature(case3)\n",
    "\n",
    "# predict SM for the case\n",
    "predict(DNN_model, motif_feature, SM_feature)"
   ]
  },
  {
   "cell_type": "code",
   "execution_count": null,
   "id": "a32a4169",
   "metadata": {},
   "outputs": [],
   "source": []
  }
 ],
 "metadata": {
  "kernelspec": {
   "display_name": "Python 3 (ipykernel)",
   "language": "python",
   "name": "python3"
  },
  "language_info": {
   "codemirror_mode": {
    "name": "ipython",
    "version": 3
   },
   "file_extension": ".py",
   "mimetype": "text/x-python",
   "name": "python",
   "nbconvert_exporter": "python",
   "pygments_lexer": "ipython3",
   "version": "3.8.16"
  }
 },
 "nbformat": 4,
 "nbformat_minor": 5
}
